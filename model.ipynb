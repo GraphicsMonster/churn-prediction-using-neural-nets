{
 "cells": [
  {
   "cell_type": "code",
   "execution_count": 41,
   "metadata": {},
   "outputs": [
    {
     "name": "stdout",
     "output_type": "stream",
     "text": [
      "   id  CustomerId         Surname  CreditScore Geography Gender   Age  Tenure  \\\n",
      "0   0    15674932  Okwudilichukwu          668    France   Male  33.0       3   \n",
      "1   1    15749177   Okwudiliolisa          627    France   Male  33.0       1   \n",
      "2   2    15694510           Hsueh          678    France   Male  40.0      10   \n",
      "3   3    15741417             Kao          581    France   Male  34.0       2   \n",
      "4   4    15766172       Chiemenam          716     Spain   Male  33.0       5   \n",
      "\n",
      "     Balance  NumOfProducts  HasCrCard  IsActiveMember  EstimatedSalary  \\\n",
      "0       0.00              2        1.0             0.0        181449.97   \n",
      "1       0.00              2        1.0             1.0         49503.50   \n",
      "2       0.00              2        1.0             0.0        184866.69   \n",
      "3  148882.54              1        1.0             1.0         84560.88   \n",
      "4       0.00              2        1.0             1.0         15068.83   \n",
      "\n",
      "   Exited  \n",
      "0       0  \n",
      "1       0  \n",
      "2       0  \n",
      "3       0  \n",
      "4       0  \n"
     ]
    }
   ],
   "source": [
    "# Load dataset\n",
    "import pandas as pd \n",
    "import numpy as np\n",
    "\n",
    "Train_set = pd.read_csv('Datasets/train.csv')\n",
    "print(Train_set.head())"
   ]
  },
  {
   "cell_type": "code",
   "execution_count": 42,
   "metadata": {},
   "outputs": [
    {
     "name": "stdout",
     "output_type": "stream",
     "text": [
      "   Surname  CreditScore  Geography  Gender       Age    Tenure   Balance  \\\n",
      "0     1924     0.144135          0       1 -0.578074 -0.719973 -0.883163   \n",
      "1     1925    -0.367706          0       1 -0.578074 -1.432694 -0.883163   \n",
      "2     1178     0.268974          0       1  0.211354  1.774548 -0.883163   \n",
      "3     1299    -0.941966          0       1 -0.465299 -1.076334  1.486918   \n",
      "4      467     0.743362          2       1 -0.578074 -0.007253 -0.883163   \n",
      "\n",
      "   NumOfProducts  HasCrCard  IsActiveMember  EstimatedSalary  Exited  \n",
      "0       0.814298        1.0             0.0         1.369486       0  \n",
      "1       0.814298        1.0             1.0        -1.254085       0  \n",
      "2       0.814298        1.0             0.0         1.437422       0  \n",
      "3      -1.013348        1.0             1.0        -0.557018       0  \n",
      "4       0.814298        1.0             1.0        -1.938770       0  \n"
     ]
    }
   ],
   "source": [
    "from sklearn.preprocessing import LabelEncoder, StandardScaler\n",
    "\n",
    "# 1. Remove rows with missing values in any column\n",
    "Train_set = Train_set.dropna()\n",
    "\n",
    "# Label encoding the categorical features\n",
    "categorical_features = [\"Surname\", \"Geography\", \"Gender\"]\n",
    "label_encoder_X = LabelEncoder()\n",
    "\n",
    "for feature in categorical_features:\n",
    "    Train_set[feature] = label_encoder_X.fit_transform(Train_set[feature])\n",
    "\n",
    "# Scaling numerical features\n",
    "numerical_features = [\"CreditScore\", \"Age\", \"Tenure\", \"Balance\", \"NumOfProducts\", \"EstimatedSalary\"]\n",
    "scaler = StandardScaler()\n",
    "\n",
    "for feature in numerical_features:\n",
    "    Train_set[feature] = scaler.fit_transform(Train_set[feature].values.reshape(-1, 1))\n",
    "\n",
    "Train_set.drop([\"id\", \"CustomerId\"], axis=1, inplace=True)\n",
    "\n",
    "print(Train_set.head())"
   ]
  },
  {
   "cell_type": "code",
   "execution_count": 43,
   "metadata": {},
   "outputs": [
    {
     "name": "stdout",
     "output_type": "stream",
     "text": [
      "X_train shape:  (132027, 11)\n"
     ]
    }
   ],
   "source": [
    "# 2. Split dataset into training and validation sets\n",
    "from sklearn.model_selection import train_test_split\n",
    "\n",
    "X = Train_set.drop([\"Exited\"], axis=1).values\n",
    "y = Train_set[\"Exited\"].values\n",
    "\n",
    "X_train, X_val, y_train, y_val = train_test_split(X, y, test_size=0.2, random_state=0)\n",
    "\n",
    "print(\"X_train shape: \", X_train.shape)\n"
   ]
  },
  {
   "cell_type": "code",
   "execution_count": 57,
   "metadata": {},
   "outputs": [],
   "source": [
    "# create dataloader\n",
    "import torch\n",
    "from torch.utils.data import TensorDataset, DataLoader\n",
    "\n",
    "batch_size = 32\n",
    "\n",
    "train_data = TensorDataset(torch.from_numpy(X_train), torch.from_numpy(y_train))\n",
    "val_data = TensorDataset(torch.from_numpy(X_val), torch.from_numpy(y_val))\n",
    "\n",
    "train_loader = DataLoader(train_data, shuffle=True, batch_size=batch_size)\n",
    "val_loader = DataLoader(val_data, shuffle=True, batch_size=batch_size)"
   ]
  },
  {
   "cell_type": "code",
   "execution_count": 51,
   "metadata": {},
   "outputs": [],
   "source": [
    "# Build the model\n",
    "\n",
    "import torch.nn as nn\n",
    "import torch.nn.functional as F\n",
    "\n",
    "class FeedForward(nn.Module):\n",
    "    def __init__(self, num_hidden):\n",
    "        super(FeedForward, self).__init__()\n",
    "        self.num_hidden = num_hidden\n",
    "        \n",
    "        self.net = nn.Sequential(\n",
    "            nn.Linear(self.num_hidden, self.num_hidden),\n",
    "            nn.ReLU(),\n",
    "        )\n",
    "    \n",
    "    def forward(self, x):\n",
    "        return self.net(x)\n",
    "    \n",
    "class Net(nn.Module):\n",
    "    def __init__(self, input_size, hidden_layers, hidden_size, output_size):\n",
    "        super(Net, self).__init__()\n",
    "        self.input_size = input_size\n",
    "        self.hidden_layers = hidden_layers\n",
    "        self.hidden_size = hidden_size\n",
    "        self.output_size = output_size\n",
    "\n",
    "        self.fc1 = nn.Linear(self.input_size, self.hidden_size)\n",
    "        self.blocks = nn.ModuleList([FeedForward(self.hidden_size) for _ in range(self.hidden_layers)])\n",
    "        self.fc2 = nn.Linear(self.hidden_size, self.output_size)\n",
    "        self.sigmoid = nn.Sigmoid()\n",
    "    \n",
    "    def forward(self, x):\n",
    "        x = F.relu(self.fc1(x))\n",
    "        for block in self.blocks:\n",
    "            x = block(x)\n",
    "        x = self.fc2(x)\n",
    "        x = self.sigmoid(x)\n",
    "        return x\n",
    "    "
   ]
  },
  {
   "cell_type": "code",
   "execution_count": 53,
   "metadata": {},
   "outputs": [],
   "source": [
    "# Defining hyperparameters\n",
    "input_size = X_train.shape[1]\n",
    "hidden_layers = 3\n",
    "hidden_size = 64\n",
    "output_size = 1\n",
    "alpha = 0.01\n",
    "epochs = 1000\n",
    "\n",
    "# Initialize the model\n",
    "model = Net(input_size, hidden_layers, hidden_size, output_size)\n",
    "\n",
    "# Define the loss function and optimizer\n",
    "criterion = nn.BCELoss()\n",
    "optimizer = torch.optim.Adam(model.parameters(), lr=alpha)"
   ]
  },
  {
   "cell_type": "code",
   "execution_count": null,
   "metadata": {},
   "outputs": [],
   "source": [
    "# Train the model\n",
    "\n",
    "for epoch in range(epochs):\n",
    "    train_loss = 0.0\n",
    "\n",
    "    model.train()\n",
    "    \n",
    "    for data, target in train_loader:\n",
    "        optimizer.zero_grad()\n",
    "        output = model.forward(data.float())\n",
    "        loss = criterion(output.squeeze(), target.float())\n",
    "        loss.backward()\n",
    "        optimizer.step()\n",
    "\n",
    "        train_loss += loss.item()*data.size(0)\n",
    "\n",
    "    train_loss = train_loss/len(train_loader.dataset)\n",
    "\n",
    "    if epoch % 10 == 0:\n",
    "        print('Epoch: {} \\tTraining Loss: {:.6f}'.format(epoch+1, train_loss))"
   ]
  }
 ],
 "metadata": {
  "kernelspec": {
   "display_name": "Python 3",
   "language": "python",
   "name": "python3"
  },
  "language_info": {
   "codemirror_mode": {
    "name": "ipython",
    "version": 3
   },
   "file_extension": ".py",
   "mimetype": "text/x-python",
   "name": "python",
   "nbconvert_exporter": "python",
   "pygments_lexer": "ipython3",
   "version": "3.11.7"
  }
 },
 "nbformat": 4,
 "nbformat_minor": 2
}
